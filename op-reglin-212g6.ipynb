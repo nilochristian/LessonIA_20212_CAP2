{
 "cells": [
  {
   "cell_type": "markdown",
   "metadata": {},
   "source": [
    "### Opcional\n",
    "1. É possível fazer uma correlação entre dois atributos do dataset?\n",
    "2. Se sim, selecionar dois atributos, calcular e mostrar o valor da correlação.\n",
    "3. Qual é a interpretação do valor da correlação?"
   ]
  },
  {
   "cell_type": "code",
   "execution_count": null,
   "metadata": {},
   "outputs": [],
   "source": []
  }
 ],
 "metadata": {
  "language_info": {
   "name": "python"
  },
  "orig_nbformat": 4
 },
 "nbformat": 4,
 "nbformat_minor": 2
}
